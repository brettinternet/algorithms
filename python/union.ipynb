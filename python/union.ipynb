{
 "metadata": {
  "language_info": {
   "codemirror_mode": {
    "name": "ipython",
    "version": 3
   },
   "file_extension": ".py",
   "mimetype": "text/x-python",
   "name": "python",
   "nbconvert_exporter": "python",
   "pygments_lexer": "ipython3",
   "version": "3.9.5-final"
  },
  "orig_nbformat": 2,
  "kernelspec": {
   "name": "python39564bitalgorithms7403ae173f1240deb25dbf2c712851ca",
   "display_name": "Python 3.9.5 64-bit ('algorithms')"
  }
 },
 "nbformat": 4,
 "nbformat_minor": 2,
 "cells": [
  {
   "source": [
    "# Union\n",
    "\n",
    "## Dynamic connectivity\n",
    "\n",
    "```py\n",
    "class UnionFind:\n",
    "    def __init__(self, n: int):\n",
    "        self.n = n\n",
    "    def union(self, p: int, q: int):\n",
    "    def connected(self, p: int, q: int) -> bool:\n",
    "    def find(self, p: int) -> int:\n",
    "    def count(self) -> int: # number of components (connected groups)\n",
    "\n",
    "uf = UnionFind(10)\n",
    "uf.union(4, 3)\n",
    "uf.connected(3, 4) # true\n",
    "```\n",
    "\n",
    "## Union-Find\n",
    "\n",
    "### Quick find (eager approach)\n",
    "\n",
    "Label each object with an ID. Match the IDs in order to represent a union between the objects. In our union, always match the `p` ID with `q` ID."
   ],
   "cell_type": "markdown",
   "metadata": {}
  },
  {
   "cell_type": "code",
   "execution_count": 2,
   "metadata": {},
   "outputs": [],
   "source": [
    "class QuickFind:\n",
    "    def __init__(self, n: int):\n",
    "        self.id = []\n",
    "        for i in range(n):\n",
    "            self.id[i] = i\n",
    "    \n",
    "    # connected when IDs match\n",
    "    def connected(self, p: int, q: int):\n",
    "        return self.id[p] == self.id[q]\n",
    "\n",
    "    # set all IDs of p to be the ID of q\n",
    "    def union(self, p, q):\n",
    "        pid = self.id[p]\n",
    "        qid = self.id[q]\n",
    "        for i in range(len(self.id)):\n",
    "            if self.id[i] == pid:\n",
    "                self.id[i] = qid"
   ]
  },
  {
   "source": [
    "Quick-find defect: union is too expensive. It requires `O(n^2)` together with the constructor. Quadratic time is much too slow and doesn't scale.\n",
    "\n",
    "### Quick union (lazy approach)\n",
    "\n",
    "Label each object with an ID. However, assign the value to each entry to be the entry's parent, or to itself if it's the root of the tree. For each union, take the root of `p` and assign it to the root of `q`."
   ],
   "cell_type": "markdown",
   "metadata": {}
  },
  {
   "cell_type": "code",
   "execution_count": null,
   "metadata": {},
   "outputs": [],
   "source": [
    "class QuickUnion:\n",
    "    def __init__(self, n: int):\n",
    "        self.id = []\n",
    "        for i in range(n):\n",
    "            self.id[i] = i\n",
    "    \n",
    "    # chase parent pointers until reach root\n",
    "    # it's a root when the id == root id\n",
    "    def root(self, i: int) -> int:\n",
    "        while i != self.id[i]:\n",
    "            i = self.id[i]\n",
    "        return i\n",
    "    \n",
    "    # connected when they have the same root\n",
    "    def connected(self, p: int, q: int):\n",
    "        return root(p) == root(q)\n",
    "\n",
    "    # change root of p to point to root of q\n",
    "    def union(self, p: int, q: int):\n",
    "        pr = root(p)\n",
    "        qr = root(q)\n",
    "        id[pr] = qr"
   ]
  },
  {
   "source": [
    "Quick-union defect: the trees can get too tall, which makes the find operations expensive (up to `O(n)`).\n",
    "\n",
    "### Weighted Quick-union\n",
    "\n",
    "Quick-union improvements: Always union smaller trees to the root of the larger tree, in order to keep tree sizes smaller. Size represent number of objects rather than height of trees."
   ],
   "cell_type": "markdown",
   "metadata": {}
  },
  {
   "cell_type": "code",
   "execution_count": null,
   "metadata": {},
   "outputs": [],
   "source": [
    "class WeightedQuickUnion:\n",
    "    # Same as quick-union, but maintain extra \"size\" array to count number of objects in the tree rooted at i    \n",
    "    def __init__(self, n: int):\n",
    "        self.id = []\n",
    "        self.size = []\n",
    "        for i in range(n):\n",
    "            self.id[i] = i\n",
    "            self.size[i] = 1\n",
    "\n",
    "    def root(self, i: int) -> int:\n",
    "        while i != self.id[i]:\n",
    "            i = self.id[i]\n",
    "        return i\n",
    "    \n",
    "    def connected(self, p: int, q: int):\n",
    "        return root(p) == root(q)\n",
    "\n",
    "    # modified to\n",
    "    # (1) link root of smaller tree to root of larger tree\n",
    "    # (2) update the \"size\" arr\n",
    "    def union(self, p: int, q: int):\n",
    "        i = root(p)\n",
    "        j = root(q)\n",
    "        if i == j: return\n",
    "        if self.size[i] < self.size[j]:\n",
    "            self.id[i] = j\n",
    "            self.size[j] += self.size[i]\n",
    "        else:\n",
    "            self.id[i] = i\n",
    "            self.size[i] += self.size[j]"
   ]
  },
  {
   "source": [
    "The improvement now makes the find operation `O(n + m * log(n))`.\n",
    "\n",
    "### Quick-union with path compression\n",
    "\n",
    "Additional improvement, as we walk the tree to find the root, we might as well set every other node in the path point to its grandparent and thus halving path length.\n",
    "\n",
    "```py\n",
    "def root(self, i: int) -> int:\n",
    "    while i != self.id[i]:\n",
    "        self.id[i] = self.id[self.id[i]] # <- optimization\n",
    "        i = self.id[i]\n",
    "    return i\n",
    "```\n",
    "\n",
    "This helps keep the trees more flat. Now the worst case time complexity is `n + m lg* n`.\n",
    "\n",
    "No algorithm for union is linear, however.\n",
    "\n",
    "## Union-Find Application: percolation\n",
    "\n",
    "Imagine a system represented as a large grid of white (`p`) and black (`1-p`) squares. The system percolates if white squares connect from the top to the bottom.\n",
    "\n",
    "## Problems\n",
    "\n",
    "### Social network connectivity\n",
    "\n",
    "Given a social network containing nn members and a log file containing `m` timestamps at which times pairs of members formed friendships, design an algorithm to determine the earliest time at which all members are connected (i.e., every member is a friend of a friend of a friend ... of a friend). Assume that the log file is sorted by timestamp and that friendship is an equivalence relation. The running time of your algorithm should be `m log n` or better and use extra space proportional to `n`."
   ],
   "cell_type": "markdown",
   "metadata": {}
  },
  {
   "cell_type": "code",
   "execution_count": 6,
   "metadata": {},
   "outputs": [],
   "source": [
    "def happy_family(N):\n",
    "    UF = UnionFind(N)\n",
    "    count = 0\n",
    "    for i in range(logs):\n",
    "        f1 = logs[i].friend1\n",
    "        f2 = logs[i].friend2\n",
    "        timestamp = logs[i].timestamp\n",
    "        if not UF.connected(f1, f2):\n",
    "            UF.union(f1, f2)\n",
    "            count += 1\n",
    "            if count == N - 1:\n",
    "                return timestamp"
   ]
  },
  {
   "source": [
    "### Union-find with specific canonical element\n",
    "\n",
    "Add a method `find()` to the union-find data type so that `find(i)` returns the largest element in the connected component containing `i`. The operations, `union()`, `connected()`, and `find()` should all take logarithmic time or better.\n",
    "\n",
    "For example, if one of the connected components is `{1, 2, 6, 9}`, then the `find()` method should return `9` for each of the four elements in the connected components."
   ],
   "cell_type": "markdown",
   "metadata": {}
  },
  {
   "source": [
    "### Successor with delete\n",
    "\n",
    "Given a set of nn integers  `S = { 0, 1, ... , n-1 }` and a sequence of requests of the following form:\n",
    "\n",
    "- Remove`x` from `S`\n",
    "- Find the `successor` of `x`: the smallest `y` in `S` such that `y ≥ x`.\n",
    "\n",
    "Design a data type so that all operations (except construction)  take logarithmic time or better in the worst case."
   ],
   "cell_type": "markdown",
   "metadata": {}
  }
 ]
}