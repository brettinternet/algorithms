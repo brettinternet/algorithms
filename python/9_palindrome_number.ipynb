{
 "metadata": {
  "language_info": {
   "codemirror_mode": {
    "name": "ipython",
    "version": 3
   },
   "file_extension": ".py",
   "mimetype": "text/x-python",
   "name": "python",
   "nbconvert_exporter": "python",
   "pygments_lexer": "ipython3",
   "version": "3.9.5-final"
  },
  "orig_nbformat": 2,
  "kernelspec": {
   "name": "python39564bitalgorithmsd21ca951aa984264b568447ebbe168c4",
   "display_name": "Python 3.9.5 64-bit ('algorithms')"
  }
 },
 "nbformat": 4,
 "nbformat_minor": 2,
 "cells": [
  {
   "source": [
    "# [9. Palindrome Number](https://leetcode.com/problems/palindrome-number/)\n",
    "\n",
    "## Description\n",
    "\n",
    "Given an integer `x`, return `true` if `x` is palindrome integer.\n",
    "\n",
    "An integer is a **palindrome** when it reads the same backward as forward. For example, `121` is palindrome while `123` is not.\n",
    "\n",
    "### Example 1:\n",
    "\n",
    "```\n",
    "Input: x = 121\n",
    "Output: true\n",
    "```\n",
    "\n",
    "### Example 2:\n",
    "\n",
    "```\n",
    "Input: x = -121\n",
    "Output: false\n",
    "Explanation: From left to right, it reads -121. From right to left, it becomes 121-. Therefore it is not a palindrome.\n",
    "```\n",
    "\n",
    "### Example 3:\n",
    "\n",
    "```\n",
    "Input: x = 10\n",
    "Output: false\n",
    "Explanation: Reads 01 from right to left. Therefore it is not a palindrome.\n",
    "```\n",
    "\n",
    "### Example 4:\n",
    "\n",
    "```\n",
    "Input: x = -101\n",
    "Output: false\n",
    "```\n",
    "\n",
    "### Constraints:\n",
    "\n",
    "- `-231 <= x <= 231 - 1`\n",
    "\n",
    "## Solution"
   ],
   "cell_type": "markdown",
   "metadata": {}
  },
  {
   "cell_type": "code",
   "execution_count": 3,
   "metadata": {},
   "outputs": [],
   "source": [
    "class Solution:\n",
    "    def isPalindrome(self, x: int) -> bool:\n",
    "        x_str = str(x)\n",
    "        return x_str == x_str[::-1]"
   ]
  },
  {
   "cell_type": "code",
   "execution_count": 4,
   "metadata": {},
   "outputs": [],
   "source": [
    "isPalindrome = Solution().isPalindrome\n",
    "assert isPalindrome(121) == True\n",
    "assert isPalindrome(-121) == False\n",
    "assert isPalindrome(10) == False\n",
    "assert isPalindrome(-101) == False"
   ]
  }
 ]
}