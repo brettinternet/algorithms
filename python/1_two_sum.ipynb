{
 "cells": [
  {
   "cell_type": "markdown",
   "metadata": {},
   "source": [
    "# [1. Two Sum](https://leetcode.com/problems/two-sum/)\n",
    "\n",
    "## Description\n",
    "\n",
    "Given an array of integers `nums` and an integer `target`, return indices of the two numbers such that they add up to target.\n",
    "\n",
    "You may assume that each input would have **exactly one solution**, and you may not use the same element twice.\n",
    "\n",
    "You can return the answer in any order.\n",
    "\n",
    "### Example 1:\n",
    "\n",
    "```\n",
    "Input: nums = [2,7,11,15], target = 9\n",
    "Output: [0,1]\n",
    "Output: Because nums[0] + nums[1] == 9, we return [0, 1].\n",
    "```\n",
    "\n",
    "### Example 2:\n",
    "\n",
    "```\n",
    "Input: nums = [3,2,4], target = 6\n",
    "Output: [1,2]\n",
    "```\n",
    "\n",
    "### Example 3:\n",
    "\n",
    "```\n",
    "Input: nums = [3,3], target = 6\n",
    "Output: [0,1]\n",
    "```\n",
    "\n",
    "### Constraints\n",
    "\n",
    "- `2 <= nums.length <= 104`\n",
    "- `-109 <= nums[i] <= 109`\n",
    "- `-109 <= target <= 109`\n",
    "- Only one valid answer exists.\n",
    "\n",
    "**Follow-up**: Can you come up with an algorithm that is less than `O(n^2)` time complexity?\n",
    "\n",
    "## Solutions"
   ]
  },
  {
   "cell_type": "code",
   "execution_count": 2,
   "metadata": {},
   "outputs": [],
   "source": [
    "from typing import List\n",
    "\n",
    "class Solution:\n",
    "    def twoSum(self, nums: List[int], target: int) -> List[int]:\n",
    "        for i in range(len(nums)):\n",
    "            for j in range(i + 1, len(nums)):\n",
    "                if nums[i] + nums[j] == target:\n",
    "                    return [i, j]"
   ]
  },
  {
   "cell_type": "code",
   "execution_count": 3,
   "metadata": {},
   "outputs": [],
   "source": [
    "from typing import List\n",
    "\n",
    "class Solution2:\n",
    "    def twoSum(self, nums: List[int], target: int) -> List[int]:\n",
    "        hash = {}\n",
    "        for i in range(len(nums)):\n",
    "            if nums[i] in hash.keys():\n",
    "                return [hash[nums[i]], i]\n",
    "            else:\n",
    "                expected = target - nums[i]\n",
    "                hash[expected] = i\n"
   ]
  },
  {
   "cell_type": "code",
   "execution_count": 4,
   "metadata": {
    "tags": []
   },
   "outputs": [],
   "source": [
    "twoSum = Solution().twoSum\n",
    "assert twoSum([2, 7, 11, 15], 9) == [0, 1]\n",
    "assert twoSum([3, 2, 4], 6) == [1, 2]\n",
    "\n",
    "twoSum = Solution2().twoSum\n",
    "assert twoSum([2, 7, 11, 15], 9) == [0, 1]\n",
    "assert twoSum([3, 2, 4], 6) == [1, 2]"
   ]
  },
  {
   "cell_type": "code",
   "execution_count": null,
   "metadata": {},
   "outputs": [],
   "source": []
  }
 ],
 "metadata": {
  "kernelspec": {
   "display_name": "Python 3.9.5 64-bit ('algorithms')",
   "language": "python",
   "name": "python39564bitalgorithms841792700ae94692b21075e601bb0f06"
  },
  "language_info": {
   "codemirror_mode": {
    "name": "ipython",
    "version": 3
   },
   "file_extension": ".py",
   "mimetype": "text/x-python",
   "name": "python",
   "nbconvert_exporter": "python",
   "pygments_lexer": "ipython3",
   "version": "3.9.5-final"
  }
 },
 "nbformat": 4,
 "nbformat_minor": 4
}