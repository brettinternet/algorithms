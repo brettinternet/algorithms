{
 "metadata": {
  "language_info": {
   "codemirror_mode": {
    "name": "ipython",
    "version": 3
   },
   "file_extension": ".py",
   "mimetype": "text/x-python",
   "name": "python",
   "nbconvert_exporter": "python",
   "pygments_lexer": "ipython3",
   "version": "3.9.5-final"
  },
  "orig_nbformat": 2,
  "kernelspec": {
   "name": "python39564bitalgorithms619f7f6a4d7e45508622f6f0b1815008",
   "display_name": "Python 3.9.5 64-bit ('algorithms')"
  }
 },
 "nbformat": 4,
 "nbformat_minor": 2,
 "cells": [
  {
   "source": [
    "# [92. Reverse Linked List II](https://leetcode.com/problems/reverse-linked-list-ii/)\n",
    "\n",
    "## Description\n",
    "\n",
    "Given the `head` of a singly linked list and two integers `left` and `right` where `left` <= `right`, reverse the nodes of the list from position `left` to position `right`, and return _the reversed list_.\n",
    "\n",
    "### Example 1:\n",
    "\n",
    "```\n",
    "Input: head = [1,2,3,4,5], left = 2, right = 4\n",
    "Output: [1,4,3,2,5]\n",
    "```\n",
    "\n",
    "### Example 2:\n",
    "\n",
    "```\n",
    "Input: head = [5], left = 1, right = 1\n",
    "Output: [5]\n",
    "```\n",
    "\n",
    "### Constraints:\n",
    "\n",
    "- The number of nodes in the list is `n`.\n",
    "- `1 <= n <= 500`\n",
    "- `-500 <= Node.val <= 500`\n",
    "- `1 <= left <= right <= n`\n",
    "\n",
    "**Follow up**: Could you do it in one pass?\n",
    "\n",
    "## Solutions"
   ],
   "cell_type": "markdown",
   "metadata": {}
  },
  {
   "cell_type": "code",
   "execution_count": 4,
   "metadata": {},
   "outputs": [],
   "source": [
    "# Definition for singly-linked list.\n",
    "class ListNode:\n",
    "    def __init__(self, val=0, next=None):\n",
    "        self.val = val\n",
    "        self.next = next\n",
    "\n",
    "class Solution:\n",
    "    def reverseBetween(self, head: ListNode, left: int, right: int) -> ListNode:\n",
    "        "
   ]
  }
 ]
}