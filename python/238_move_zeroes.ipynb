{
 "metadata": {
  "language_info": {
   "codemirror_mode": {
    "name": "ipython",
    "version": 3
   },
   "file_extension": ".py",
   "mimetype": "text/x-python",
   "name": "python",
   "nbconvert_exporter": "python",
   "pygments_lexer": "ipython3",
   "version": "3.9.5-final"
  },
  "orig_nbformat": 2,
  "kernelspec": {
   "name": "python39564bitalgorithms8d857d913e2f4b67a61e5f5911bcaff5",
   "display_name": "Python 3.9.5 64-bit ('algorithms')"
  }
 },
 "nbformat": 4,
 "nbformat_minor": 2,
 "cells": [
  {
   "source": [
    "# [238. Move Zeroes](https://leetcode.com/problems/move-zeroes/)\n",
    "\n",
    "## Description\n",
    "\n",
    "Given an integer array `nums`, move all `0`'s to the end of it while maintaining the relative order of the non-zero elements.\n",
    "\n",
    "Note that you must do this in-place without making a copy of the array.\n",
    "\n",
    "### Example 1:\n",
    "\n",
    "```\n",
    "Input: nums = [0,1,0,3,12]\n",
    "Output: [1,3,12,0,0]\n",
    "```\n",
    "\n",
    "### Example 2:\n",
    "\n",
    "```\n",
    "Input: nums = [0]\n",
    "Output: [0]\n",
    "```\n",
    "\n",
    "### Constraints\n",
    "\n",
    "- `1 <= nums.length <= 104`\n",
    "- `-231 <= nums[i] <= 231 - 1`\n",
    "\n",
    "## Solution"
   ],
   "cell_type": "markdown",
   "metadata": {}
  },
  {
   "cell_type": "code",
   "execution_count": 1,
   "metadata": {},
   "outputs": [],
   "source": [
    "from typing import List\n",
    "\n",
    "class Solution:\n",
    "    def moveZeroes(self, nums: List[int]) -> None:\n",
    "        \"\"\"\n",
    "        Do not return anything, modify nums in-place instead.\n",
    "        \"\"\"\n",
    "        for i in reversed(range(len(nums))):\n",
    "            if nums[i] == 0:\n",
    "                del nums[i]\n",
    "                nums.append(0)"
   ]
  },
  {
   "cell_type": "code",
   "execution_count": 2,
   "metadata": {},
   "outputs": [],
   "source": [
    "from typing import List\n",
    "\n",
    "class Solution2:\n",
    "    def moveZeroes(self, nums: List[int]) -> None:\n",
    "        \"\"\"\n",
    "        Do not return anything, modify nums in-place instead.\n",
    "        \"\"\"\n",
    "        j = 0\n",
    "        for i in range(len(nums)):\n",
    "            if nums[i] != 0:\n",
    "                nums[i], nums[j] = nums[j], nums[i]\n",
    "                j += 1"
   ]
  },
  {
   "cell_type": "code",
   "execution_count": 6,
   "metadata": {},
   "outputs": [],
   "source": [
    "moveZeroes = Solution().moveZeroes\n",
    "arg = [0,1,0,3,12]\n",
    "moveZeroes(arg)\n",
    "assert arg == [1,3,12,0,0]\n",
    "arg2 = [0]\n",
    "moveZeroes(arg2)\n",
    "assert arg2 == [0]\n",
    "\n",
    "moveZeroes = Solution2().moveZeroes\n",
    "arg = [0,1,0,3,12]\n",
    "moveZeroes(arg)\n",
    "assert arg == [1,3,12,0,0]\n",
    "arg2 = [0]\n",
    "moveZeroes(arg2)\n",
    "assert arg2 == [0]"
   ]
  }
 ]
}