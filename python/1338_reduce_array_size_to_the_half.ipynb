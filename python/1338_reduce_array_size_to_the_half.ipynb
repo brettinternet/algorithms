{
 "metadata": {
  "language_info": {
   "codemirror_mode": {
    "name": "ipython",
    "version": 3
   },
   "file_extension": ".py",
   "mimetype": "text/x-python",
   "name": "python",
   "nbconvert_exporter": "python",
   "pygments_lexer": "ipython3",
   "version": "3.9.5-final"
  },
  "orig_nbformat": 2,
  "kernelspec": {
   "name": "python39564bitalgorithms4a609cee91ec452b994ef03862ecd200",
   "display_name": "Python 3.9.5 64-bit ('algorithms')"
  }
 },
 "nbformat": 4,
 "nbformat_minor": 2,
 "cells": [
  {
   "source": [
    "# [1338. Reduce Array Size to the Half](https://leetcode.com/problems/reduce-array-size-to-the-half)\n",
    "\n",
    "## Description\n",
    "\n",
    "Given an array arr.  You can choose a set of integers and remove all the occurrences of these integers in the array.\n",
    "\n",
    "Return the minimum size of the set so that at least half of the integers of the array are removed.\n",
    "\n",
    "### Example 1:\n",
    "\n",
    "```\n",
    "Input: arr = [3,3,3,3,5,5,5,2,2,7]\n",
    "Output: 2\n",
    "Explanation: Choosing {3,7} will make the new array [5,5,5,2,2] which has size 5 (i.e equal to half of the size of the old array).\n",
    "Possible sets of size 2 are {3,5},{3,2},{5,2}.\n",
    "Choosing set {2,7} is not possible as it will make the new array [3,3,3,3,5,5,5] which has size greater than half of the size of the old array.\n",
    "```\n",
    "\n",
    "### Example 2:\n",
    "\n",
    "```\n",
    "Input: arr = [7,7,7,7,7,7]\n",
    "Output: 1\n",
    "Explanation: The only possible set you can choose is {7}. This will make the new array empty.\n",
    "```\n",
    "\n",
    "### Example 3:\n",
    "\n",
    "```\n",
    "Input: arr = [1,9]\n",
    "Output: 1\n",
    "```\n",
    "\n",
    "### Example 4:\n",
    "\n",
    "```\n",
    "Input: arr = [1000,1000,3,7]\n",
    "Output: 1\n",
    "```\n",
    "\n",
    "### Example 5:\n",
    "\n",
    "```\n",
    "Input: arr = [1,2,3,4,5,6,7,8,9,10]\n",
    "Output: 5\n",
    "```\n",
    "\n",
    "### Constraints:\n",
    "\n",
    "\n",
    "- `1 <= arr.length <= 10^5`\n",
    "- `arr.length` is even.\n",
    "- `1 <= arr[i] <= 10^5`\n"
   ],
   "cell_type": "markdown",
   "metadata": {}
  },
  {
   "cell_type": "code",
   "execution_count": 9,
   "metadata": {},
   "outputs": [],
   "source": [
    "from typing import List\n",
    "\n",
    "class Solution:\n",
    "    def minSetSize(self, arr: List[int]) -> int:\n",
    "        map = {}\n",
    "        for i in range(len(arr)):\n",
    "            if arr[i] in map:\n",
    "                map[arr[i]] += 1\n",
    "            else:\n",
    "                map[arr[i]] = 1\n",
    "        \n",
    "        val = None\n",
    "        max = 0\n",
    "        for key, value in map.items():\n",
    "            if value > max:\n",
    "                max = value\n",
    "                val = key\n",
    "                del map[key]\n",
    "        \n",
    "        new_arr = list(filter(lambda x: x == val, arr))\n",
    "        for key, value in map.items():\n",
    "            if value + len(new_arr) == (len(arr) / 2):\n",
    "                return new_arr + list(filter(lambda x: x == key, arr))\n",
    "            elif value + len(new_arr) < (len(arr) / 2):\n",
    "                new_arr = new_arr + list(filter(lambda x: x == key, arr))\n",
    "        \n",
    "        return new_arr"
   ]
  },
  {
   "cell_type": "code",
   "execution_count": 10,
   "metadata": {},
   "outputs": [
    {
     "output_type": "error",
     "ename": "AssertionError",
     "evalue": "Received: [3, 3, 3, 3, 7]",
     "traceback": [
      "\u001b[0;31m---------------------------------------------------------------------------\u001b[0m",
      "\u001b[0;31mAssertionError\u001b[0m                            Traceback (most recent call last)",
      "\u001b[0;32m<ipython-input-10-6df1b7069a52>\u001b[0m in \u001b[0;36m<module>\u001b[0;34m\u001b[0m\n\u001b[1;32m      1\u001b[0m \u001b[0mminSetSize\u001b[0m \u001b[0;34m=\u001b[0m \u001b[0mSolution\u001b[0m\u001b[0;34m(\u001b[0m\u001b[0;34m)\u001b[0m\u001b[0;34m.\u001b[0m\u001b[0mminSetSize\u001b[0m\u001b[0;34m\u001b[0m\u001b[0;34m\u001b[0m\u001b[0m\n\u001b[1;32m      2\u001b[0m \u001b[0mresult1\u001b[0m \u001b[0;34m=\u001b[0m \u001b[0mminSetSize\u001b[0m\u001b[0;34m(\u001b[0m\u001b[0;34m[\u001b[0m\u001b[0;36m3\u001b[0m\u001b[0;34m,\u001b[0m\u001b[0;36m3\u001b[0m\u001b[0;34m,\u001b[0m\u001b[0;36m3\u001b[0m\u001b[0;34m,\u001b[0m\u001b[0;36m3\u001b[0m\u001b[0;34m,\u001b[0m\u001b[0;36m5\u001b[0m\u001b[0;34m,\u001b[0m\u001b[0;36m5\u001b[0m\u001b[0;34m,\u001b[0m\u001b[0;36m5\u001b[0m\u001b[0;34m,\u001b[0m\u001b[0;36m2\u001b[0m\u001b[0;34m,\u001b[0m\u001b[0;36m2\u001b[0m\u001b[0;34m,\u001b[0m\u001b[0;36m7\u001b[0m\u001b[0;34m]\u001b[0m\u001b[0;34m)\u001b[0m\u001b[0;34m\u001b[0m\u001b[0;34m\u001b[0m\u001b[0m\n\u001b[0;32m----> 3\u001b[0;31m \u001b[0;32massert\u001b[0m \u001b[0mresult1\u001b[0m \u001b[0;34m==\u001b[0m \u001b[0;36m2\u001b[0m\u001b[0;34m,\u001b[0m \u001b[0;34m\"Received: {}\"\u001b[0m\u001b[0;34m.\u001b[0m\u001b[0mformat\u001b[0m\u001b[0;34m(\u001b[0m\u001b[0mresult1\u001b[0m\u001b[0;34m)\u001b[0m\u001b[0;34m\u001b[0m\u001b[0;34m\u001b[0m\u001b[0m\n\u001b[0m\u001b[1;32m      4\u001b[0m \u001b[0mresult2\u001b[0m \u001b[0;34m=\u001b[0m \u001b[0mminSetSize\u001b[0m\u001b[0;34m(\u001b[0m\u001b[0;34m[\u001b[0m\u001b[0;36m7\u001b[0m\u001b[0;34m,\u001b[0m\u001b[0;36m7\u001b[0m\u001b[0;34m,\u001b[0m\u001b[0;36m7\u001b[0m\u001b[0;34m,\u001b[0m\u001b[0;36m7\u001b[0m\u001b[0;34m,\u001b[0m\u001b[0;36m7\u001b[0m\u001b[0;34m,\u001b[0m\u001b[0;36m7\u001b[0m\u001b[0;34m]\u001b[0m\u001b[0;34m)\u001b[0m\u001b[0;34m\u001b[0m\u001b[0;34m\u001b[0m\u001b[0m\n\u001b[1;32m      5\u001b[0m \u001b[0;32massert\u001b[0m \u001b[0mresult2\u001b[0m \u001b[0;34m==\u001b[0m \u001b[0;36m1\u001b[0m\u001b[0;34m,\u001b[0m \u001b[0;34m\"Received: {}\"\u001b[0m\u001b[0;34m.\u001b[0m\u001b[0mformat\u001b[0m\u001b[0;34m(\u001b[0m\u001b[0mresult2\u001b[0m\u001b[0;34m)\u001b[0m\u001b[0;34m\u001b[0m\u001b[0;34m\u001b[0m\u001b[0m\n",
      "\u001b[0;31mAssertionError\u001b[0m: Received: [3, 3, 3, 3, 7]"
     ]
    }
   ],
   "source": [
    "minSetSize = Solution().minSetSize\n",
    "result1 = minSetSize([3,3,3,3,5,5,5,2,2,7])\n",
    "assert result1 == 2, \"Received: {}\".format(result1)\n",
    "result2 = minSetSize([7,7,7,7,7,7])\n",
    "assert result2 == 1, \"Received: {}\".format(result2)\n",
    "result3 = minSetSize([1,9])\n",
    "assert result3 == 1, \"Received: {}\".format(result3)\n",
    "result4 = minSetSize([1000,1000,3,7])\n",
    "assert result4 == 1, \"Received: {}\".format(result4)\n",
    "result5 = minSetSize([1,2,3,4,5,6,7,8,9,10])\n",
    "assert result5 == 5, \"Received: {}\".format(result5)"
   ]
  }
 ]
}