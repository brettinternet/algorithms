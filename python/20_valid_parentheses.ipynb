{
 "metadata": {
  "language_info": {
   "codemirror_mode": {
    "name": "ipython",
    "version": 3
   },
   "file_extension": ".py",
   "mimetype": "text/x-python",
   "name": "python",
   "nbconvert_exporter": "python",
   "pygments_lexer": "ipython3",
   "version": "3.9.5-final"
  },
  "orig_nbformat": 2,
  "kernelspec": {
   "name": "python39564bitalgorithms3d2de3b688bf4089a1331547bd82df09",
   "display_name": "Python 3.9.5 64-bit ('algorithms')"
  }
 },
 "nbformat": 4,
 "nbformat_minor": 2,
 "cells": [
  {
   "source": [
    "# [20](https://leetcode.com/problems/valid-parentheses/). Valid Parentheses\n",
    "\n",
    "## Description\n",
    "\n",
    "Given a string `s` containing just the characters `'('`, `')'`, `'{'`, `'}'`, `'['` and `']'`, determine if the input string is valid.\n",
    "\n",
    "An input string is valid if:\n",
    "\n",
    "1. Open brackets must be closed by the same type of brackets.\n",
    "1. Open brackets must be closed in the correct order.\n",
    "\n",
    "### Example 1:\n",
    "\n",
    "```\n",
    "Input: s = \"()\"\n",
    "Output: true\n",
    "```\n",
    "\n",
    "### Example 2:\n",
    "\n",
    "```\n",
    "Input: s = \"()[]{}\"\n",
    "Output: true\n",
    "```\n",
    "\n",
    "### Example 3:\n",
    "\n",
    "```\n",
    "Input: s = \"(]\"\n",
    "Output: false\n",
    "```\n",
    "\n",
    "### Example 4:\n",
    "\n",
    "```\n",
    "Input: s = \"([)]\"\n",
    "Output: false\n",
    "```\n",
    "\n",
    "### Example 5:\n",
    "\n",
    "```\n",
    "Input: s = \"{[]}\"\n",
    "Output: true\n",
    "```\n",
    "\n",
    "### Constraints:\n",
    "\n",
    "- `1 <= s.length <= 104`\n",
    "- `s` consists of parentheses only `'()[]{}'`.\n",
    "\n",
    "## Solutions"
   ],
   "cell_type": "markdown",
   "metadata": {}
  },
  {
   "cell_type": "code",
   "execution_count": 2,
   "metadata": {},
   "outputs": [],
   "source": [
    "class Solution:\n",
    "    def isValid(self, s: str) -> bool:\n",
    "        map = { '{': '}', '[': ']', '(': ')' }\n",
    "        stack = []\n",
    "        for c in s:\n",
    "            if c in map.keys():\n",
    "                stack.append(c)\n",
    "            elif len(stack) == 0 or map[stack.pop()] != c:\n",
    "                return False\n",
    "        return len(stack) == 0"
   ]
  },
  {
   "cell_type": "code",
   "execution_count": null,
   "metadata": {},
   "outputs": [],
   "source": []
  }
 ]
}