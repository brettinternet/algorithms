{
 "metadata": {
  "language_info": {
   "codemirror_mode": {
    "name": "ipython",
    "version": 3
   },
   "file_extension": ".py",
   "mimetype": "text/x-python",
   "name": "python",
   "nbconvert_exporter": "python",
   "pygments_lexer": "ipython3",
   "version": "3.9.5-final"
  },
  "orig_nbformat": 2,
  "kernelspec": {
   "name": "python39564bitalgorithms195dd3e557ee471c95fd04f4c41d4846",
   "display_name": "Python 3.9.5 64-bit ('algorithms')"
  }
 },
 "nbformat": 4,
 "nbformat_minor": 2,
 "cells": [
  {
   "source": [
    "# [566. Reshape the Matrix](https://leetcode.com/problems/reshape-the-matrix/)\n",
    "\n",
    "## Description\n",
    "\n",
    "In MATLAB, there is a handy function called `reshape` which can reshape an `m x n` matrix into a new one with a different size `r x c` keeping its original data.\n",
    "\n",
    "You are given an `m x n` matrix mat and two integers `r` and `c` representing the row number and column number of the wanted reshaped matrix.\n",
    "\n",
    "The reshaped matrix should be filled with all the elements of the original matrix in the same row-traversing order as they were.\n",
    "\n",
    "If the `reshape` operation with given parameters is possible and legal, output the new reshaped matrix; Otherwise, output the original matrix.\n",
    "\n",
    "### Example 1:\n",
    "\n",
    "```\n",
    "Input: mat = [[1,2],[3,4]], r = 1, c = 4\n",
    "Output: [[1,2,3,4]]\n",
    "```\n",
    "\n",
    "### Example 2:\n",
    "\n",
    "```\n",
    "Input: mat = [[1,2],[3,4]], r = 2, c = 4\n",
    "Output: [[1,2],[3,4]]\n",
    "```\n",
    "\n",
    "### Constraints:\n",
    "\n",
    "- `m == mat.length`\n",
    "- `n == mat[i].length`\n",
    "- `1 <= m, n <= 100`\n",
    "- `-1000 <= mat[i][j] <= 1000`\n",
    "- `1 <= r, c <= 300`\n",
    "\n",
    "## Solution"
   ],
   "cell_type": "markdown",
   "metadata": {}
  },
  {
   "cell_type": "code",
   "execution_count": 1,
   "metadata": {},
   "outputs": [],
   "source": [
    "from typing import List\n",
    "\n",
    "class Solution:\n",
    "    def matrixReshape(self, mat: List[List[int]], r: int, c: int) -> List[List[int]]:\n",
    "        cells = []\n",
    "        for row in range(len(mat)):\n",
    "            for column in range(len(mat[0])):\n",
    "                cells.append(mat[row][column])\n",
    "        \n",
    "        if r * c != len(cells):\n",
    "            return mat\n",
    "        \n",
    "        table = []\n",
    "        for i in range(r):\n",
    "            column = []\n",
    "            for j in range(c):\n",
    "                first = cells[0:1]\n",
    "                cells = cells[1:]\n",
    "                column.append(first.pop())\n",
    "            table.append(column)\n",
    "\n",
    "        return table"
   ]
  },
  {
   "cell_type": "code",
   "execution_count": 2,
   "metadata": {},
   "outputs": [],
   "source": [
    "from typing import List\n",
    "\n",
    "class Solution2:\n",
    "    def matrixReshape(self, mat: List[List[int]], r: int, c: int) -> List[List[int]]:\n",
    "        # or you could use a monoid `sum(mat, [])` - https://en.wikipedia.org/wiki/Monoid#Monoids_in_computer_science\n",
    "        flat = [column for row in mat for column in row]\n",
    "        \n",
    "        if r * c != len(flat):\n",
    "            return mat\n",
    "        \n",
    "        table = []\n",
    "        for i in range(r):\n",
    "            row = flat[0:c]\n",
    "            flat = flat[c:]\n",
    "            table.append(row)\n",
    "\n",
    "        return table"
   ]
  },
  {
   "cell_type": "code",
   "execution_count": 3,
   "metadata": {},
   "outputs": [],
   "source": [
    "matrixReshape = Solution().matrixReshape\n",
    "result1 = matrixReshape([[1,2],[3,4]], 1, 4)\n",
    "assert result1 == [[1,2,3,4]], \"Received: {}\".format(result1)\n",
    "result2 = matrixReshape([[1,2],[3,4]], 2, 4)\n",
    "assert result2 == [[1,2],[3,4]], \"Received: {}\".format(result2)\n",
    "\n",
    "matrixReshape = Solution2().matrixReshape\n",
    "result1 = matrixReshape([[1,2],[3,4]], 1, 4)\n",
    "assert result1 == [[1,2,3,4]], \"Received: {}\".format(result1)\n",
    "result2 = matrixReshape([[1,2],[3,4]], 2, 4)\n",
    "assert result2 == [[1,2],[3,4]], \"Received: {}\".format(result2)"
   ]
  }
 ]
}