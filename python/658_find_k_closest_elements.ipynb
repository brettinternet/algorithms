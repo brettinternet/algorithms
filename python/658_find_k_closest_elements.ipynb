{
 "metadata": {
  "language_info": {
   "codemirror_mode": {
    "name": "ipython",
    "version": 3
   },
   "file_extension": ".py",
   "mimetype": "text/x-python",
   "name": "python",
   "nbconvert_exporter": "python",
   "pygments_lexer": "ipython3",
   "version": "3.9.5-final"
  },
  "orig_nbformat": 2,
  "kernelspec": {
   "name": "python39564bitalgorithms7403ae173f1240deb25dbf2c712851ca",
   "display_name": "Python 3.9.5 64-bit ('algorithms')"
  }
 },
 "nbformat": 4,
 "nbformat_minor": 2,
 "cells": [
  {
   "source": [
    "# [658. Find K Closest Elements](https://leetcode.com/problems/find-k-closest-elements/)\n",
    "\n",
    "## Description\n",
    "\n",
    "Given a sorted integer array `arr`, two integers `k` and `x`, return the `k` closest integers to `x` in the array. The result should also be sorted in ascending order.\n",
    "\n",
    "An integer `a` is closer to `x` than an integer `b` if:\n",
    "\n",
    "- `|a - x| < |b - x|`, or\n",
    "- `|a - x| == |b - x|` and `a < b`\n",
    " \n",
    "\n",
    "### Example 1:\n",
    "\n",
    "```\n",
    "Input: arr = [1,2,3,4,5], k = 4, x = 3\n",
    "Output: [1,2,3,4]\n",
    "```\n",
    "\n",
    "### Example 2:\n",
    "\n",
    "```\n",
    "Input: arr = [1,2,3,4,5], k = 4, x = -1\n",
    "Output: [1,2,3,4]\n",
    "```\n",
    "\n",
    "### Constraints:\n",
    "\n",
    "- `1 <= k <= arr.length`\n",
    "- `1 <= arr.length <= 104`\n",
    "- `arr` is sorted in **ascending** order.\n",
    "- `-104 <= arr[i], x <= 104`"
   ],
   "cell_type": "markdown",
   "metadata": {}
  },
  {
   "cell_type": "code",
   "execution_count": 8,
   "metadata": {},
   "outputs": [],
   "source": [
    "from typing import List\n",
    "\n",
    "class Solution:\n",
    "    def findClosestElements(self, arr: List[int], k: int, x: int) -> List[int]:\n",
    "        # absolute value of target minus number makes the integers cluster near the target\n",
    "        sorted_arr = sorted(arr, key=lambda n: abs(x - n))\n",
    "\n",
    "        result = []\n",
    "        for i in range(k):\n",
    "            result.append(sorted_arr[i])\n",
    "        \n",
    "        return sorted(result)"
   ]
  },
  {
   "cell_type": "code",
   "execution_count": 9,
   "metadata": {},
   "outputs": [],
   "source": [
    "findClosestElements = Solution().findClosestElements\n",
    "result1 = findClosestElements([1,2,3,4,5], 4, 3)\n",
    "assert result1 == [1,2,3,4], \"Received: {}\".format(result1)\n",
    "result2 = findClosestElements([1,2,3,4,5], 4, -1)\n",
    "assert result2 == [1,2,3,4], \"Received: {}\".format(result2)\n",
    "result3 = findClosestElements([4,5,7,9,11], 3, 8)\n",
    "assert result3 == [5,7,9], \"Received: {}\".format(result3)"
   ]
  },
  {
   "source": [],
   "cell_type": "markdown",
   "metadata": {}
  }
 ]
}