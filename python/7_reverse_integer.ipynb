{
 "metadata": {
  "language_info": {
   "codemirror_mode": {
    "name": "ipython",
    "version": 3
   },
   "file_extension": ".py",
   "mimetype": "text/x-python",
   "name": "python",
   "nbconvert_exporter": "python",
   "pygments_lexer": "ipython3",
   "version": "3.9.5-final"
  },
  "orig_nbformat": 2,
  "kernelspec": {
   "name": "python39564bitalgorithms4a609cee91ec452b994ef03862ecd200",
   "display_name": "Python 3.9.5 64-bit ('algorithms')"
  }
 },
 "nbformat": 4,
 "nbformat_minor": 2,
 "cells": [
  {
   "source": [
    "# [7. Reverse Integer](https://leetcode.com/problems/reverse-integer/)\n",
    "\n",
    "## Description\n",
    "\n",
    "Given a signed 32-bit integer `x`, return `x` with its digits reversed. If reversing `x` causes the value to go outside the signed 32-bit integer range \\[-2<sup>31</sup>, 2<sup>31</sup> - 1\\], then return `0`.\n",
    "\n",
    "Assume the environment does not allow you to store 64-bit integers (signed or unsigned).\n",
    "\n",
    "### Example 1:\n",
    "\n",
    "```\n",
    "Input: x = 123\n",
    "Output: 321\n",
    "```\n",
    "\n",
    "### Example 2:\n",
    "\n",
    "```\n",
    "Input: x = -123\n",
    "Output: -321\n",
    "```\n",
    "\n",
    "### Example 3:\n",
    "\n",
    "```\n",
    "Input: x = 120\n",
    "Output: 21\n",
    "```\n",
    "\n",
    "### Example 4:\n",
    "\n",
    "```\n",
    "Input: x = 0\n",
    "Output: 0\n",
    "```\n",
    "\n",
    "### Constraints:\n",
    "\n",
    "- `-231 <= x <= 231 - 1`\n",
    "\n",
    "## Solution"
   ],
   "cell_type": "markdown",
   "metadata": {}
  },
  {
   "cell_type": "code",
   "execution_count": 3,
   "metadata": {},
   "outputs": [],
   "source": [
    "class Solution:\n",
    "    def reverse(self, x: int) -> int:\n",
    "        sign = [1, -1][x < 0] # True and False resolve to 1 and 0 in python\n",
    "        rev = sign * int(str(abs(x))[::-1])\n",
    "        return rev if -pow(2, 31) < rev < pow(2, 31) - 1 else 0"
   ]
  },
  {
   "cell_type": "code",
   "execution_count": 4,
   "metadata": {},
   "outputs": [],
   "source": [
    "reverse = Solution().reverse\n",
    "assert reverse(123) == 321\n",
    "assert reverse(-123) == -321\n",
    "assert reverse(120) == 21\n",
    "assert reverse(0) == 0"
   ]
  }
 ]
}