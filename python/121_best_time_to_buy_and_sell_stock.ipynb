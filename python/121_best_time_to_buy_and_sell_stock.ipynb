{
 "metadata": {
  "language_info": {
   "codemirror_mode": {
    "name": "ipython",
    "version": 3
   },
   "file_extension": ".py",
   "mimetype": "text/x-python",
   "name": "python",
   "nbconvert_exporter": "python",
   "pygments_lexer": "ipython3",
   "version": "3.9.5-final"
  },
  "orig_nbformat": 2,
  "kernelspec": {
   "name": "python39564bitalgorithms7403ae173f1240deb25dbf2c712851ca",
   "display_name": "Python 3.9.5 64-bit ('algorithms')"
  }
 },
 "nbformat": 4,
 "nbformat_minor": 2,
 "cells": [
  {
   "source": [
    "# [121. Best Time to Buy and Sell Stock](https://leetcode.com/problems/best-time-to-buy-and-sell-stock/)\n",
    "\n",
    "## Description\n",
    "\n",
    "You are given an array `prices` where `prices[i]` is the price of a given stock on the `i`<sup>th</sup> day.\n",
    "\n",
    "You want to maximize your profit by choosing a **single day** to buy one stock and choosing a **different day in the future** to sell that stock.\n",
    "\n",
    "Return the _maximum profit you can achieve from this transaction_. If you cannot achieve any profit, return `0`.\n",
    "\n",
    "### Example 1:\n",
    "\n",
    "```\n",
    "Input: prices = [7,1,5,3,6,4]\n",
    "Output: 5\n",
    "Explanation: Buy on day 2 (price = 1) and sell on day 5 (price = 6), profit = 6-1 = 5.\n",
    "Note that buying on day 2 and selling on day 1 is not allowed because you must buy before you sell.\n",
    "```\n",
    "\n",
    "### Example 2:\n",
    "\n",
    "```\n",
    "Input: prices = [7,6,4,3,1]\n",
    "Output: 0\n",
    "Explanation: In this case, no transactions are done and the max profit = 0.\n",
    "```\n",
    "\n",
    "### Constraints:\n",
    "\n",
    "- `1 <= prices.length <= 105`\n",
    "- `0 <= prices[i] <= 104`\n",
    "\n",
    "## Solution"
   ],
   "cell_type": "markdown",
   "metadata": {}
  },
  {
   "cell_type": "code",
   "execution_count": 15,
   "metadata": {},
   "outputs": [],
   "source": [
    "from typing import List\n",
    "\n",
    "class Solution:\n",
    "    # time complexity: O(n^2)\n",
    "    # space complexity: O(1)\n",
    "    def maxProfit(self, prices: List[int]) -> int:\n",
    "        max = 0\n",
    "        for i in range(len(prices)):\n",
    "            for j in range(i + 1, len(prices)):\n",
    "                diff = prices[j] - prices[i]\n",
    "                if diff > max:\n",
    "                    max = diff\n",
    "\n",
    "        return max\n",
    "        "
   ]
  },
  {
   "cell_type": "code",
   "execution_count": 16,
   "metadata": {},
   "outputs": [],
   "source": [
    "from typing import List\n",
    "\n",
    "class Solution2:\n",
    "    # time: O(n)\n",
    "    # space: O(1)\n",
    "    def maxProfit(self, prices: List[int]) -> int:\n",
    "        min = prices[0]\n",
    "        profit = 0\n",
    "        for i in range(1, len(prices)):\n",
    "            if prices[i] < min:\n",
    "                min = prices[i]\n",
    "            elif prices[i] - min > profit:\n",
    "                profit = prices[i] - min\n",
    "        return profit"
   ]
  },
  {
   "cell_type": "code",
   "execution_count": 17,
   "metadata": {},
   "outputs": [
    {
     "output_type": "stream",
     "name": "stdout",
     "text": [
      "✔\n"
     ]
    }
   ],
   "source": [
    "maxProfit = Solution().maxProfit\n",
    "result1 = maxProfit([7,1,5,3,6,4])\n",
    "assert result1 == 5, \"Received: {}\".format(result1)\n",
    "result2 = maxProfit([7,6,4,3,1])\n",
    "assert result2 == 0, \"Received: {}\".format(result2)\n",
    "\n",
    "maxProfit = Solution2().maxProfit\n",
    "result1 = maxProfit([7,1,5,3,6,4])\n",
    "assert result1 == 5, \"Received: {}\".format(result1)\n",
    "result2 = maxProfit([7,6,4,3,1])\n",
    "assert result2 == 0, \"Received: {}\".format(result2)\n",
    "\n",
    "print(\"✔\")"
   ]
  }
 ]
}